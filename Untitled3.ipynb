{
 "cells": [
  {
   "cell_type": "code",
   "execution_count": 2,
   "metadata": {},
   "outputs": [
    {
     "name": "stdout",
     "output_type": "stream",
     "text": [
      "Raheel\n",
      "Ahmed\n",
      "22\n",
      "Karachi\n"
     ]
    }
   ],
   "source": [
    "# Question1:\n",
    "# Use a dictionary to store information about a person you know. Store their first name, last name, age, and the city in \n",
    "# which they live. You should have keys such as first_name, last_name, age, and city. Print each piece of information stored\n",
    "# in your dictionary. Add a new key value pair about qualification then update the qualification value to high academic \n",
    "# level then delete it.\n",
    "\n",
    "person = {\n",
    "    'first_name': 'Raheel',\n",
    "    'last_name': 'Ahmed',\n",
    "    'age': 22,\n",
    "    'city': 'Karachi',\n",
    "    }\n",
    "\n",
    "print(person['first_name'])\n",
    "print(person['last_name'])\n",
    "print(person['age'])\n",
    "print(person['city'])"
   ]
  },
  {
   "cell_type": "code",
   "execution_count": 4,
   "metadata": {},
   "outputs": [
    {
     "name": "stdout",
     "output_type": "stream",
     "text": [
      "\n",
      "Karachi is in Pakistan.\n",
      "  It has a population of about 15741000.\n",
      "  The The Food facts.\n",
      "\n",
      "Ankara is in Turkey.\n",
      "  It has a population of about 83429615.\n",
      "  The Modern Day Turkey Was Formed In 1923 Following The Fall Of The Ottoman Empire. facts.\n",
      "\n",
      "Egypt is in Cairo.\n",
      "  It has a population of about 7734614.\n",
      "  The Today, Cairo The Center Of The Egyptian Education System And There Are A Large Number Of Universities In Or Near The City. Some Of The Largest Are Cairo University, The American University In Cairo And Ain Shams University. facts.\n"
     ]
    }
   ],
   "source": [
    "# Question2:\n",
    "# Make a dictionary called cities. Use the names of three cities as keys in your dictionary. Create a dictionary of \n",
    "# information about each city and include the country that the city is in, its approximate population, and one fact about \n",
    "# that city. The keys for each city’s dictionary should be something like country, population, and fact. Print the name of \n",
    "# each city and all of the information you have stored about it.\n",
    "\n",
    "cities = {\n",
    "    'Karachi': {\n",
    "        'country': 'Pakistan',\n",
    "        'population': 15741000,\n",
    "        'facts': 'The food',\n",
    "        },\n",
    "    'Ankara': {\n",
    "        'country': 'Turkey',\n",
    "        'population': 83429615,\n",
    "        'facts': 'Modern day Turkey was formed in 1923 following the fall of the Ottoman Empire.',\n",
    "        },\n",
    "    'Egypt': {\n",
    "        'country': 'Cairo',\n",
    "        'population': 7734614,\n",
    "        'facts': 'Today, Cairo the center of the Egyptian education system and there are a large number of universities in or near the city. Some of the largest are Cairo University, the American University in Cairo and Ain Shams University.',\n",
    "        }\n",
    "    }\n",
    "\n",
    "for city, city_info in cities.items():\n",
    "    country = city_info['country'].title()\n",
    "    population = city_info['population']\n",
    "    mountains = city_info['facts'].title()\n",
    "\n",
    "    print(\"\\n\" + city.title() + \" is in \" + country + \".\")\n",
    "    print(\"  It has a population of about \" + str(population) + \".\")\n",
    "    print(\"  The \" + mountains + \" facts.\")\n"
   ]
  },
  {
   "cell_type": "code",
   "execution_count": 6,
   "metadata": {},
   "outputs": [
    {
     "name": "stdout",
     "output_type": "stream",
     "text": [
      "How old are you?\n",
      "Enter 'quit' when you are finished. 2\n",
      "  You get in free!\n",
      "How old are you?\n",
      "Enter 'quit' when you are finished. 15\n",
      "  Your ticket is $15.\n",
      "How old are you?\n",
      "Enter 'quit' when you are finished. 10\n",
      "  Your ticket is $10.\n",
      "How old are you?\n",
      "Enter 'quit' when you are finished. quit\n"
     ]
    }
   ],
   "source": [
    "# Question3:\n",
    "#A movie theater charges different ticket prices depending on a person’s age. If a person is under the age of 3, the \n",
    "#ticket is free; if they are between 3 and 12, the ticket is $10; and if they are over age 12, the ticket is $15. Write \n",
    "#a loop in which you ask users their age, and then tell them the cost of their movie ticket.\n",
    "\n",
    "\n",
    "tickets = \"How old are you?\"\n",
    "tickets += \"\\nEnter 'quit' when you are finished. \"\n",
    "\n",
    "while True:\n",
    "    age = input(tickets)\n",
    "    if age == 'quit':\n",
    "        break\n",
    "    age = int(age)\n",
    "\n",
    "    if age < 3:\n",
    "        print(\"  You get in free!\")\n",
    "    elif age < 13:\n",
    "        print(\"  Your ticket is $10.\")\n",
    "    else:\n",
    "        print(\"  Your ticket is $15.\")"
   ]
  },
  {
   "cell_type": "code",
   "execution_count": 13,
   "metadata": {},
   "outputs": [
    {
     "name": "stdout",
     "output_type": "stream",
     "text": [
      " One of my favorite books Alice in Wonderland.\n"
     ]
    }
   ],
   "source": [
    "#Question4:\n",
    "#Write a function called favorite_book() that accepts one parameter, title. The function should print a message, \n",
    "#such as One of my favorite books is Alice in Wonderland. Call the function, making sure to include a book title as an \n",
    "#argument in the function call.\n",
    "\n",
    "def favorite_book(title):\n",
    "    print(\" One of my favorite books\"  +  title)\n",
    "\n",
    "favorite_book(' Alice in Wonderland.')"
   ]
  },
  {
   "cell_type": "code",
   "execution_count": 1,
   "metadata": {},
   "outputs": [
    {
     "name": "stdout",
     "output_type": "stream",
     "text": [
      "Hi! I'm thinking of a random number between 1 and 30.\n",
      "--- Attempt 1\n",
      "Guess what number I am thinking of: 23\n",
      "Too low.\n",
      "--- Attempt 2\n",
      "Guess what number I am thinking of: 27\n",
      "Too low.\n",
      "--- Attempt 3\n",
      "Guess what number I am thinking of: 30\n",
      "Too high.\n",
      "Aw, you ran out of tries. The number was 29.\n"
     ]
    }
   ],
   "source": [
    "#Question5:\n",
    "#Guess the number game\n",
    "#Write a program which randomly generate a number between 1 to 30 and ask the user in input field to guess the correct \n",
    "#number. Give three chances to user guess the number and also give hint to user if hidden number is greater or smaller \n",
    "#than the number he given to input field.\n",
    "\n",
    "import random\n",
    "\n",
    "\n",
    "def main():\n",
    "\n",
    "    print(\"Hi! I'm thinking of a random number between 1 and 30.\")\n",
    "    secret_number = random.randrange(1, 31)\n",
    "    \n",
    "    user_attempt_number = 1\n",
    "\n",
    "    user_guess = 0\n",
    "\n",
    "    while user_guess != secret_number and user_attempt_number < 4:\n",
    "\n",
    "        print(\"--- Attempt\", user_attempt_number)\n",
    "        user_input_text = input(\"Guess what number I am thinking of: \")\n",
    "        user_guess = int(user_input_text)\n",
    "\n",
    "        if user_guess > secret_number:\n",
    "            print(\"Too high.\")\n",
    "        elif user_guess < secret_number:\n",
    "            print(\"Too low.\")\n",
    "        else:\n",
    "            print(\"You got it!\")\n",
    "\n",
    "        user_attempt_number += 1\n",
    "\n",
    "    if user_guess != secret_number:\n",
    "        print(\"Aw, you ran out of tries. The number was \" + str(secret_number) + \".\")\n",
    "\n",
    "main()"
   ]
  },
  {
   "cell_type": "code",
   "execution_count": null,
   "metadata": {},
   "outputs": [],
   "source": []
  }
 ],
 "metadata": {
  "kernelspec": {
   "display_name": "Python 3",
   "language": "python",
   "name": "python3"
  },
  "language_info": {
   "codemirror_mode": {
    "name": "ipython",
    "version": 3
   },
   "file_extension": ".py",
   "mimetype": "text/x-python",
   "name": "python",
   "nbconvert_exporter": "python",
   "pygments_lexer": "ipython3",
   "version": "3.7.3"
  }
 },
 "nbformat": 4,
 "nbformat_minor": 2
}
