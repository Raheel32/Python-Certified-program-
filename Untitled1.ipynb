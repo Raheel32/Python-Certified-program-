{
 "cells": [
  {
   "cell_type": "code",
   "execution_count": 10,
   "metadata": {},
   "outputs": [
    {
     "name": "stdout",
     "output_type": "stream",
     "text": [
      "Marks In English: 2\n",
      "Marks In Mathematics: 2\n",
      "Marks In Physics: 2\n",
      "Marks In Chemistry: 2\n",
      "Marks In Computer Science: 2\n",
      "Your Marks In Percentage Is  2.0 % \n",
      "You have failed\n"
     ]
    }
   ],
   "source": [
    "# Write a program which takes 5 inputs from user for different subject’s\n",
    "# marks, total it and generate mark sheet using grades ?\n",
    "\n",
    "a=int(input(\"Marks In English: \"))\n",
    "b=int(input(\"Marks In Mathematics: \"))\n",
    "c=int(input(\"Marks In Physics: \"))\n",
    "d=int(input(\"Marks In Chemistry: \"))\n",
    "e=int(input(\"Marks In Computer Science: \"))\n",
    " \n",
    "f=(a+b+c+d+e)*100/500\n",
    "print(\"Your Marks In Percentage Is \",f,\"% \")\n",
    " \n",
    "if f>=90:\n",
    "\tprint('You got the A+ grade! Marvelous')\n",
    "elif(f>=81 and f<=90):\n",
    "\tprint(\"Your Grade is A! Welldone\");\n",
    "elif(f>=71 and f<=80):\n",
    "\tprint(\"Your Grade is B+! Excellent\");\n",
    "elif(f>=61 and f<=70):\n",
    "\tprint(\"Your Grade is B! Very Good\");\n",
    "elif(f>=51 and f<=60):\n",
    "\tprint(\"Your Grade is C+! Good\");\n",
    "elif(f>=41 and f<=50):\n",
    "\tprint(\"Your Grade is C! **\");\n",
    "else:\n",
    "\tprint('You have failed')"
   ]
  },
  {
   "cell_type": "code",
   "execution_count": 12,
   "metadata": {},
   "outputs": [
    {
     "name": "stdout",
     "output_type": "stream",
     "text": [
      "Enter a number: 45\n",
      "This is an odd number.\n"
     ]
    }
   ],
   "source": [
    "#Write a program which take input from user and identify that the given number is even or odd?\n",
    "\n",
    "num = int(input(\"Enter a number: \"))\n",
    "mod = num % 2\n",
    "if mod > 0:\n",
    "    print(\"This is an odd number.\")\n",
    "else:\n",
    "    print(\"This is an even number.\")"
   ]
  },
  {
   "cell_type": "code",
   "execution_count": 16,
   "metadata": {},
   "outputs": [
    {
     "name": "stdout",
     "output_type": "stream",
     "text": [
      "The length of list is:  16\n"
     ]
    }
   ],
   "source": [
    "#Write a program which print the length of the list?\n",
    "\n",
    "n = len([10,20,30,340,56,86,84,51,21,51,65,6,79,1,6,4])\n",
    "print(\"The length of list is: \", n) "
   ]
  },
  {
   "cell_type": "code",
   "execution_count": 17,
   "metadata": {
    "scrolled": true
   },
   "outputs": [
    {
     "name": "stdout",
     "output_type": "stream",
     "text": [
      "How many numbers: 5\n",
      "Enter number 45\n",
      "Enter number 45\n",
      "Enter number 65\n",
      "Enter number 3\n",
      "Enter number 4\n",
      "Sum of elements in given list is : 162\n"
     ]
    }
   ],
   "source": [
    "# Write a Python program to sum all the numeric items in a list?\n",
    "\n",
    "lst = []\n",
    "num = int(input('How many numbers: '))\n",
    "for n in range(num):\n",
    "    numbers = int(input('Enter number '))\n",
    "    lst.append(numbers)\n",
    "print(\"Sum of elements in given list is :\", sum(lst))"
   ]
  },
  {
   "cell_type": "code",
   "execution_count": 21,
   "metadata": {},
   "outputs": [
    {
     "name": "stdout",
     "output_type": "stream",
     "text": [
      "Largest no. is: 231548\n"
     ]
    }
   ],
   "source": [
    "# Write a Python program to get the largest number from a numeric list.\n",
    "\n",
    "list1 = [10, 20, 4, 45, 99,10001,65987,231548,120,3258] \n",
    "print(\"Largest no. is:\", max(list1)) "
   ]
  },
  {
   "cell_type": "code",
   "execution_count": 32,
   "metadata": {},
   "outputs": [
    {
     "name": "stdout",
     "output_type": "stream",
     "text": [
      "1\n",
      "1\n",
      "2\n",
      "3\n"
     ]
    }
   ],
   "source": [
    "# Take a list, say for example this one:\n",
    "#a = [1, 1, 2, 3, 5, 8, 13, 21, 34, 55, 89]\n",
    "#and write a program that prints out all the elements of the list that are\n",
    "#less than 5.\n",
    "\n",
    "a = [1, 1, 2, 3, 5, 8, 13, 21, 34, 55, 89]\n",
    "new_list=[]\n",
    "for i in a:\n",
    "    if i<5:\n",
    "        print (i)"
   ]
  },
  {
   "cell_type": "code",
   "execution_count": null,
   "metadata": {},
   "outputs": [],
   "source": []
  }
 ],
 "metadata": {
  "kernelspec": {
   "display_name": "Python 3",
   "language": "python",
   "name": "python3"
  },
  "language_info": {
   "codemirror_mode": {
    "name": "ipython",
    "version": 3
   },
   "file_extension": ".py",
   "mimetype": "text/x-python",
   "name": "python",
   "nbconvert_exporter": "python",
   "pygments_lexer": "ipython3",
   "version": "3.7.3"
  }
 },
 "nbformat": 4,
 "nbformat_minor": 2
}
